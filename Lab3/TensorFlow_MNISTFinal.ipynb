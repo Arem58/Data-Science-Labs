{
 "cells": [
  {
   "cell_type": "markdown",
   "metadata": {},
   "source": [
    "# Red Neuronal Profunda (DNN) para clasificación MNIST\n",
    "\n",
    "Aplicaremos todos nuestros conocimientos para crear una DNN.  El problema que vamos a trabajar se conoce como el \"Hola Mundo\" del aprendizaje profundo porque para la mayoría de estudiantes este es el primer algoritmo de aprendizaje profundo que ven. \n",
    "\n",
    "El conjunto de datos se llama MNIST y se refiere al reconocimiento de dígitos escritos a mano.  Pueden encontrar más información en el sitio web de Yann LeCun (Director of AI Research, Facebook).  El es uno de los pioneros de todo este tema, así como de otras metodologías más complejas como las Redes Neurales Convolucionales (CNN) que se utilizan hoy día.\n",
    "\n",
    "El conjunto de datos tiene 70,000 imágenes (28x28 pixels) de dígitos escritos a mano (1 dígito por imagen).\n",
    "\n",
    "La meta es escribir un algoritmo que detecta qué dígito ha sido escrito.  Como solo hay 10 dígitos (0 al 9), este es un problema de clasificación con 10 clases.\n",
    "\n",
    "Nuestra meta será construir una RN con 2 capas escondidas."
   ]
  },
  {
   "cell_type": "markdown",
   "metadata": {},
   "source": [
    "## Importar los paquetes relevantes\n",
    "\n",
    "TensorFlow incluye un proveedor de datos de MNIST que utilizaremos acá.  Viene con el módulo **\"tensorflow-datasets\"** por lo que si no lo ha instalado aún, debe hacerlo:\n",
    "\n",
    "pip install tensorflow-datasets\n",
    "\n",
    "ó\n",
    "\n",
    "conda install tensorflow-datasets\n",
    "\n",
    "Estos conjuntos de datos se almacenarán en su directorio C:\\Users\\usuario\\tensorflow_datasets|...\n",
    "\n",
    "La primera vez que baje un conjunto de datos, se almacenará en la carpeta respectiva.  Cada vez subsiguiente, automáticamente cargará la copia en su computadora"
   ]
  },
  {
   "cell_type": "code",
   "execution_count": 1,
   "metadata": {
    "tags": []
   },
   "outputs": [
    {
     "name": "stderr",
     "output_type": "stream",
     "text": [
      "c:\\Python38\\lib\\site-packages\\scipy\\__init__.py:146: UserWarning: A NumPy version >=1.16.5 and <1.23.0 is required for this version of SciPy (detected version 1.23.1\n",
      "  warnings.warn(f\"A NumPy version >={np_minversion} and <{np_maxversion}\"\n"
     ]
    }
   ],
   "source": [
    "import numpy as np\n",
    "import tensorflow as tf\n",
    "import tensorflow_datasets as tfds"
   ]
  },
  {
   "cell_type": "markdown",
   "metadata": {},
   "source": [
    "## Datos\n",
    "\n",
    "Esta sección es donde pre-procesaremos nuestros datos.\n",
    "\n",
    "**tfd.load** carga un conjunto de datos (o si es la primera vez, los baja y luego los carga).  En este caso estamos interesados en el conjunto de datos MNIST.  El único argumento obligatorio es el nombre del conjunto de datos.  Hay otros que pueden ser útiles, por ejemplo:\n",
    "\n",
    "**with_info = True** nos provee con una tupla que contiene información sobre la versión, features, número de observaciones (samples)\n",
    "\n",
    "**as_supervised = True** cargará el conjunto de datos en una estructura de 2 tuplas (entrada, meta).  Si se usa **False**, retorna un diccionario, obviamente preferimos tener de una vez nuestra entrada y meta separados."
   ]
  },
  {
   "cell_type": "code",
   "execution_count": 2,
   "metadata": {},
   "outputs": [
    {
     "name": "stdout",
     "output_type": "stream",
     "text": [
      "\u001b[1mDownloading and preparing dataset Unknown size (download: Unknown size, generated: Unknown size, total: Unknown size) to ~\\tensorflow_datasets\\mnist\\3.0.1...\u001b[0m\n"
     ]
    },
    {
     "name": "stderr",
     "output_type": "stream",
     "text": [
      "Dl Completed...: 0 url [00:00, ? url/s]\n",
      "Dl Completed...:   0%|          | 0/1 [00:00<?, ? url/s]\n",
      "Dl Completed...: 100%|██████████| 1/1 [00:00<00:00, 29.32 url/s]\n",
      "Dl Completed...: 100%|██████████| 1/1 [00:00<00:00, 20.84 url/s]\n",
      "Dl Completed...: 100%|██████████| 1/1 [00:00<00:00, 15.16 url/s]\n",
      "Dl Completed...:  50%|█████     | 1/2 [00:00<00:00, 10.21 url/s]\n",
      "Dl Completed...: 100%|██████████| 2/2 [00:00<00:00, 17.85 url/s]\n",
      "Dl Completed...: 100%|██████████| 2/2 [00:00<00:00, 17.85 url/s]\n",
      "Dl Completed...: 100%|██████████| 2/2 [00:00<00:00, 17.85 url/s]\n",
      "Dl Completed...:  67%|██████▋   | 2/3 [00:00<00:00, 17.85 url/s]\n",
      "Dl Completed...: 100%|██████████| 3/3 [00:00<00:00, 17.85 url/s]\n",
      "Dl Completed...: 100%|██████████| 3/3 [00:00<00:00, 17.85 url/s]\n",
      "Dl Completed...: 100%|██████████| 3/3 [00:00<00:00, 17.85 url/s]\n",
      "Dl Completed...:  75%|███████▌  | 3/4 [00:00<00:00, 17.85 url/s]\n",
      "Dl Completed...: 100%|██████████| 4/4 [00:00<00:00, 13.53 url/s]\n",
      "Dl Completed...: 100%|██████████| 4/4 [00:00<00:00, 13.53 url/s]\n",
      "Dl Completed...: 100%|██████████| 4/4 [00:00<00:00, 13.53 url/s]\n",
      "Extraction completed...: 0 file [00:00, ? file/s]\n",
      "Dl Size...: 100%|██████████| 11594722/11594722 [00:00<00:00, 33906926.27 MiB/s]\n",
      "Dl Completed...: 100%|██████████| 4/4 [00:00<00:00, 11.38 url/s]\n",
      "                                                                        \r"
     ]
    },
    {
     "name": "stdout",
     "output_type": "stream",
     "text": [
      "\u001b[1mDataset mnist downloaded and prepared to ~\\tensorflow_datasets\\mnist\\3.0.1. Subsequent calls will reuse this data.\u001b[0m\n"
     ]
    }
   ],
   "source": [
    "datos_mnist, info_mnist = tfds.load(name='mnist',\n",
    "                                    shuffle_files = False,\n",
    "                                    with_info=True, \n",
    "                                    as_supervised=True)"
   ]
  },
  {
   "cell_type": "markdown",
   "metadata": {},
   "source": [
    "Una vez se ha cargado el conjunto de datos, se pueden, fácilmente, extraer los conjuntos de entrenamiento y prueba."
   ]
  },
  {
   "cell_type": "code",
   "execution_count": 3,
   "metadata": {},
   "outputs": [],
   "source": [
    "entreno_mnist, prueba_mnist = datos_mnist['train'], datos_mnist['test']"
   ]
  },
  {
   "cell_type": "markdown",
   "metadata": {},
   "source": [
    "Por default, TF2 tiene conjuntos de datos de entrenamiento y de prueba, pero no tiene un conjunto de validación, por lo que debemos dividirlo por nuestra cuenta\n",
    "\n",
    "Empezamos por definir el número de observaciones de validación, como un porcentaje de las observaciones de entrenamiento.  Aqui es donde también usamos **mnist_info** (no tenemos que contar las observaciones)"
   ]
  },
  {
   "cell_type": "code",
   "execution_count": 187,
   "metadata": {},
   "outputs": [],
   "source": [
    "num_obs_validacion = 0.1 * info_mnist.splits['train'].num_examples"
   ]
  },
  {
   "cell_type": "markdown",
   "metadata": {},
   "source": [
    "Convertimos este número a entero ya que un float puede causar problemas en el camino"
   ]
  },
  {
   "cell_type": "code",
   "execution_count": 188,
   "metadata": {},
   "outputs": [],
   "source": [
    "num_obs_validacion = tf.cast(num_obs_validacion, tf.int64)"
   ]
  },
  {
   "cell_type": "markdown",
   "metadata": {},
   "source": [
    "Usaremos una variable dedicada para el número de muestras de prueba"
   ]
  },
  {
   "cell_type": "code",
   "execution_count": 189,
   "metadata": {},
   "outputs": [],
   "source": [
    "num_obs_prueba = info_mnist.splits['test'].num_examples"
   ]
  },
  {
   "cell_type": "code",
   "execution_count": 178,
   "metadata": {},
   "outputs": [],
   "source": [
    "num_obs_prueba = tf.cast(num_obs_prueba, tf.int64)"
   ]
  },
  {
   "cell_type": "markdown",
   "metadata": {},
   "source": [
    "Normalmente preferimos \"normalizar\" nuestros datos en alguna forma para que el resultado sea numéricamente más estable.  En este caso simplemente preferimos tener entradas entre 0 y 1, por lo que definimos una función, que reciba la imagen MNIST y su etiqueta, para hacerlo.\n",
    "\n",
    "Como los posibles valores de las entradas son entre 0 y 255 (256 posibles tonos de gris), al dividirlos por 255 obtenemos el resultado deseado."
   ]
  },
  {
   "cell_type": "code",
   "execution_count": 190,
   "metadata": {},
   "outputs": [],
   "source": [
    "def normalizar(imagen, etiqueta):\n",
    "    imagen = tf.cast(imagen, tf.float32)\n",
    "    imagen /= 255.\n",
    "    return imagen, etiqueta"
   ]
  },
  {
   "cell_type": "markdown",
   "metadata": {},
   "source": [
    "El método .map() nos permite aplicar una transormación \"customizada\" a un conjunto de datos.  Ya hemos decidido que obtendremos los datos de validación a partir de *mnist_train*"
   ]
  },
  {
   "cell_type": "code",
   "execution_count": 191,
   "metadata": {
    "tags": []
   },
   "outputs": [],
   "source": [
    "datos_entrenamiento_y_validacion_normalizados = entreno_mnist.map(normalizar)"
   ]
  },
  {
   "cell_type": "markdown",
   "metadata": {},
   "source": [
    "Finalmente, normalizaremos y convertiremos los datos de pruebas en tandas.  Los normalizamos para que tengan la misma magnitud que los datos de entrenamiento y validación.\n",
    "\n",
    "No hay necesidad de \"barajearlo\" ya que no estaremos entrenando con los datos de prueba.  Habra una sola tanda, igual al tamaño de los datos de prueba."
   ]
  },
  {
   "cell_type": "code",
   "execution_count": 192,
   "metadata": {},
   "outputs": [],
   "source": [
    "datos_prueba = prueba_mnist.map(normalizar)"
   ]
  },
  {
   "cell_type": "markdown",
   "metadata": {},
   "source": [
    "Si \"barajearemos\" los datos de entrenamiento y validación.\n",
    "\n",
    "El parámetro **TAMANIO_BUFFER** se utiliza para casos que tengan conjuntos de datos grandes.  En este caso no es posible \"barajear\" el conjunto completo de un solo porque no cabe en la memoria.  En vez, TF2 solo almacena los datos en memoria **TAMANIO_BUFFER** muestras a la vez, y los \"barajea\".\n",
    "\n",
    "si TAMANIO_BUFFER = 1 => no hay \"barajeo\"\n",
    "si TAMANIO_BUFFER >= número de muestras => el \"barajeo\" se hace uniformemente\n",
    "\n",
    "para un TAMANIO_BUFFER intermedio - se hace una optimización computacional para aproximar un \"barajeo\" uniforme.\n",
    "\n",
    "Afortunadamente, hay un método de \"barajeo\" disponible y solo necesitamos especificar el tamaño del buffer."
   ]
  },
  {
   "cell_type": "code",
   "execution_count": 193,
   "metadata": {},
   "outputs": [],
   "source": [
    "TAMANIO_BUFFER = 10000"
   ]
  },
  {
   "cell_type": "code",
   "execution_count": 194,
   "metadata": {},
   "outputs": [],
   "source": [
    "datos_entrenamiento_y_validacion_barajeados = datos_entrenamiento_y_validacion_normalizados.shuffle(TAMANIO_BUFFER)"
   ]
  },
  {
   "cell_type": "markdown",
   "metadata": {},
   "source": [
    "Una vez se han \"normalizado\" y \"barajeado\" los datos, podemos proceder a extraer los datos de entrenamiento y de validación.\n",
    "\n",
    "Nuestros datos de validación serán el 10% del conjunto de entrenamiento, que ya se calculó utilizando el método **.take()**.\n",
    "\n",
    "Finalmente, creamos una tanda con un tamaño de tanda igual al total de muestras de validación."
   ]
  },
  {
   "cell_type": "code",
   "execution_count": 195,
   "metadata": {},
   "outputs": [],
   "source": [
    "datos_validacion = datos_entrenamiento_y_validacion_barajeados.take(num_obs_validacion)"
   ]
  },
  {
   "cell_type": "markdown",
   "metadata": {},
   "source": [
    "Similarmente, los datos de entrenamiento son todos los demás por lo que nos salteamos tantas observaciones como las hay en el conjunto de validación."
   ]
  },
  {
   "cell_type": "code",
   "execution_count": 196,
   "metadata": {},
   "outputs": [],
   "source": [
    "datos_entreno = datos_entrenamiento_y_validacion_barajeados.skip(num_obs_validacion)"
   ]
  },
  {
   "cell_type": "markdown",
   "metadata": {},
   "source": [
    "Establecemos el tamaño de las tandas.\n",
    "\n",
    "También podemos aprovechar el momento para separar los datos de entrenamiento y de prueba.\n",
    "\n",
    "Estos serán muy útiles cuando entrenemos, ya que podemos iterar sobre las diferentes tandas"
   ]
  },
  {
   "cell_type": "code",
   "execution_count": 197,
   "metadata": {},
   "outputs": [],
   "source": [
    "TAMANIO_TANDA = 100\n",
    "\n",
    "datos_entreno = datos_entreno.batch(TAMANIO_TANDA)\n",
    "\n",
    "datos_validacion = datos_validacion.batch(num_obs_validacion)\n",
    "\n",
    "datos_prueba = datos_prueba.batch(num_obs_prueba)"
   ]
  },
  {
   "cell_type": "markdown",
   "metadata": {},
   "source": [
    "Toma la siguiente tanda (es la única tanda) ya que, como configuramos **as_supervized = True**, obtuvimos una estructura de 2 tuplas "
   ]
  },
  {
   "cell_type": "code",
   "execution_count": 198,
   "metadata": {},
   "outputs": [],
   "source": [
    "entradas_validacion, metas_validacion = next(iter(datos_validacion))"
   ]
  },
  {
   "cell_type": "markdown",
   "metadata": {},
   "source": [
    "## Modelo"
   ]
  },
  {
   "cell_type": "markdown",
   "metadata": {},
   "source": [
    "### Delineamos el modelo\n",
    "\n",
    "Cuando pensamos sobre un algoritmo de aprenzaje profundo, casi siempre solo lo imaginamos.  Asi que esta vez, hagámoslo.  :)"
   ]
  },
  {
   "cell_type": "code",
   "execution_count": 199,
   "metadata": {
    "tags": []
   },
   "outputs": [],
   "source": [
    "tamanio_entrada = 784\n",
    "tamanio_salida = 10"
   ]
  },
  {
   "cell_type": "markdown",
   "metadata": {},
   "source": [
    "Usaremos el mismo ancho para ambas capas escondidas.  No es una necesidad!"
   ]
  },
  {
   "cell_type": "code",
   "execution_count": 200,
   "metadata": {},
   "outputs": [],
   "source": [
    "tamanio_capa_escondida = 300"
   ]
  },
  {
   "cell_type": "markdown",
   "metadata": {},
   "source": [
    "# Definimos cómo se verá el modelo\n",
    "\n",
    "La primera capa (la de entrada):  cada observación es de 28x28x1 píxeles, por lo tanto es un tensor de rango 3.\n",
    "\n",
    "Como aún no hemos aprendido sobre CNNs, no sabemos como alimentar este tipo de entrada a nuestra red, por lo tanto hay que \"aplanar\" las imágenes.  Hay un método conveniente **Flatten** que toma nuestro tensor de 28x28x1 y lo covierte en  un vector (None), o (784,)...porque 28x28x1 = 784.  Esto nos permite crear una red de alimentación hacia adelante.\n",
    "\n",
    "    \n",
    "**tf.keras.layers.Dense** básicamente implementa:  output = activation(dot(entrada, peso) + sesgo).  Requiere varios argumentos, pero los más importantes para nosotros son el ancho de la capa escondida y la función de activación.\n",
    "\n",
    "La capa final no es diferente, solo nos aseguramos de activarla con **softmax**\n"
   ]
  },
  {
   "cell_type": "code",
   "execution_count": 201,
   "metadata": {},
   "outputs": [],
   "source": [
    "modelo = tf.keras.Sequential([\n",
    "\n",
    "    tf.keras.layers.Flatten(input_shape=(28, 28, 1)), # capa entrada\n",
    "    \n",
    "    tf.keras.layers.Dense(tamanio_capa_escondida, activation='relu'), # 1era capa escondida\n",
    "    tf.keras.layers.Dense(tamanio_capa_escondida, activation='relu'), # 2nda capa escondida\n",
    "    tf.keras.layers.Dense(tamanio_capa_escondida, activation='relu'), # 3era capa escondida\n",
    "\n",
    "    tf.keras.layers.Dense(tamanio_salida, activation='softmax') # capa salida\n",
    "])"
   ]
  },
  {
   "cell_type": "markdown",
   "metadata": {},
   "source": [
    "### Seleccionar el optimizador y la función de pérdida"
   ]
  },
  {
   "cell_type": "markdown",
   "metadata": {
    "tags": []
   },
   "source": [
    "Definimos el optimizador que nos gustaría utilizar, la función de pérdida, y las métricas que nos interesa obtener en cada interacción"
   ]
  },
  {
   "cell_type": "code",
   "execution_count": 202,
   "metadata": {},
   "outputs": [],
   "source": [
    "modelo.compile(optimizer='adam', loss='sparse_categorical_crossentropy', metrics=['accuracy'])"
   ]
  },
  {
   "cell_type": "markdown",
   "metadata": {},
   "source": [
    "### Entrenamiento\n",
    "\n",
    "Acá es donde entrenamos el modelo que hemos construído\n",
    "\n",
    "Determinamos el número máximo de épocas.\n",
    "\n",
    "Ajustamos el modelo , especificando:\n",
    "\n",
    "* los datos de entrenamiento\n",
    "* el número total de épocas\n",
    "* y los datos de validación que creamos en el formato (entradas, metas)"
   ]
  },
  {
   "cell_type": "code",
   "execution_count": 206,
   "metadata": {},
   "outputs": [
    {
     "name": "stdout",
     "output_type": "stream",
     "text": [
      "Epoch 1/35\n",
      "540/540 - 7s - loss: 0.0185 - accuracy: 0.9939 - val_loss: 0.0237 - val_accuracy: 0.9913 - 7s/epoch - 12ms/step\n",
      "Epoch 2/35\n",
      "540/540 - 6s - loss: 0.0144 - accuracy: 0.9951 - val_loss: 0.0173 - val_accuracy: 0.9950 - 6s/epoch - 12ms/step\n",
      "Epoch 3/35\n",
      "540/540 - 7s - loss: 0.0165 - accuracy: 0.9948 - val_loss: 0.0137 - val_accuracy: 0.9960 - 7s/epoch - 13ms/step\n",
      "Epoch 4/35\n",
      "540/540 - 7s - loss: 0.0117 - accuracy: 0.9961 - val_loss: 0.0436 - val_accuracy: 0.9892 - 7s/epoch - 12ms/step\n",
      "Epoch 5/35\n",
      "540/540 - 7s - loss: 0.0171 - accuracy: 0.9949 - val_loss: 0.0189 - val_accuracy: 0.9928 - 7s/epoch - 13ms/step\n",
      "Epoch 6/35\n",
      "540/540 - 7s - loss: 0.0095 - accuracy: 0.9972 - val_loss: 0.0188 - val_accuracy: 0.9947 - 7s/epoch - 12ms/step\n",
      "Epoch 7/35\n",
      "540/540 - 7s - loss: 0.0139 - accuracy: 0.9956 - val_loss: 0.0086 - val_accuracy: 0.9973 - 7s/epoch - 12ms/step\n",
      "Epoch 8/35\n",
      "540/540 - 7s - loss: 0.0097 - accuracy: 0.9970 - val_loss: 0.0104 - val_accuracy: 0.9967 - 7s/epoch - 12ms/step\n",
      "Epoch 9/35\n",
      "540/540 - 7s - loss: 0.0127 - accuracy: 0.9960 - val_loss: 0.0348 - val_accuracy: 0.9903 - 7s/epoch - 14ms/step\n",
      "Epoch 10/35\n",
      "540/540 - 6s - loss: 0.0109 - accuracy: 0.9967 - val_loss: 0.0235 - val_accuracy: 0.9945 - 6s/epoch - 12ms/step\n",
      "Epoch 11/35\n",
      "540/540 - 7s - loss: 0.0111 - accuracy: 0.9966 - val_loss: 0.0098 - val_accuracy: 0.9973 - 7s/epoch - 13ms/step\n",
      "Epoch 12/35\n",
      "540/540 - 6s - loss: 0.0070 - accuracy: 0.9977 - val_loss: 0.0358 - val_accuracy: 0.9922 - 6s/epoch - 11ms/step\n",
      "Epoch 13/35\n",
      "540/540 - 7s - loss: 0.0110 - accuracy: 0.9968 - val_loss: 0.0154 - val_accuracy: 0.9965 - 7s/epoch - 12ms/step\n",
      "Epoch 14/35\n",
      "540/540 - 7s - loss: 0.0088 - accuracy: 0.9972 - val_loss: 0.0084 - val_accuracy: 0.9975 - 7s/epoch - 12ms/step\n",
      "Epoch 15/35\n",
      "540/540 - 7s - loss: 0.0088 - accuracy: 0.9974 - val_loss: 0.0079 - val_accuracy: 0.9978 - 7s/epoch - 13ms/step\n",
      "Epoch 16/35\n",
      "540/540 - 7s - loss: 0.0089 - accuracy: 0.9970 - val_loss: 0.0128 - val_accuracy: 0.9968 - 7s/epoch - 13ms/step\n",
      "Epoch 17/35\n",
      "540/540 - 6s - loss: 0.0068 - accuracy: 0.9980 - val_loss: 0.0161 - val_accuracy: 0.9952 - 6s/epoch - 12ms/step\n",
      "Epoch 18/35\n",
      "540/540 - 6s - loss: 0.0083 - accuracy: 0.9975 - val_loss: 0.0150 - val_accuracy: 0.9963 - 6s/epoch - 12ms/step\n",
      "Epoch 19/35\n",
      "540/540 - 7s - loss: 0.0086 - accuracy: 0.9975 - val_loss: 0.0101 - val_accuracy: 0.9970 - 7s/epoch - 12ms/step\n",
      "Epoch 20/35\n",
      "540/540 - 7s - loss: 0.0053 - accuracy: 0.9982 - val_loss: 0.0089 - val_accuracy: 0.9963 - 7s/epoch - 12ms/step\n",
      "Epoch 21/35\n",
      "540/540 - 7s - loss: 0.0079 - accuracy: 0.9977 - val_loss: 0.0108 - val_accuracy: 0.9968 - 7s/epoch - 12ms/step\n",
      "Epoch 22/35\n",
      "540/540 - 7s - loss: 0.0063 - accuracy: 0.9984 - val_loss: 0.0057 - val_accuracy: 0.9983 - 7s/epoch - 13ms/step\n",
      "Epoch 23/35\n",
      "540/540 - 7s - loss: 0.0092 - accuracy: 0.9972 - val_loss: 0.0122 - val_accuracy: 0.9970 - 7s/epoch - 13ms/step\n",
      "Epoch 24/35\n",
      "540/540 - 7s - loss: 0.0062 - accuracy: 0.9980 - val_loss: 0.0122 - val_accuracy: 0.9955 - 7s/epoch - 12ms/step\n",
      "Epoch 25/35\n",
      "540/540 - 7s - loss: 0.0067 - accuracy: 0.9979 - val_loss: 0.0103 - val_accuracy: 0.9973 - 7s/epoch - 13ms/step\n",
      "Epoch 26/35\n",
      "540/540 - 7s - loss: 0.0053 - accuracy: 0.9981 - val_loss: 0.0070 - val_accuracy: 0.9980 - 7s/epoch - 12ms/step\n",
      "Epoch 27/35\n",
      "540/540 - 7s - loss: 0.0080 - accuracy: 0.9979 - val_loss: 0.0101 - val_accuracy: 0.9967 - 7s/epoch - 12ms/step\n",
      "Epoch 28/35\n",
      "540/540 - 7s - loss: 0.0065 - accuracy: 0.9980 - val_loss: 0.0078 - val_accuracy: 0.9968 - 7s/epoch - 12ms/step\n",
      "Epoch 29/35\n",
      "540/540 - 6s - loss: 0.0033 - accuracy: 0.9989 - val_loss: 0.0136 - val_accuracy: 0.9973 - 6s/epoch - 12ms/step\n",
      "Epoch 30/35\n",
      "540/540 - 6s - loss: 0.0071 - accuracy: 0.9982 - val_loss: 0.0066 - val_accuracy: 0.9978 - 6s/epoch - 11ms/step\n",
      "Epoch 31/35\n",
      "540/540 - 6s - loss: 0.0057 - accuracy: 0.9983 - val_loss: 0.0085 - val_accuracy: 0.9977 - 6s/epoch - 12ms/step\n",
      "Epoch 32/35\n",
      "540/540 - 6s - loss: 0.0109 - accuracy: 0.9972 - val_loss: 0.0080 - val_accuracy: 0.9978 - 6s/epoch - 11ms/step\n",
      "Epoch 33/35\n",
      "540/540 - 7s - loss: 0.0043 - accuracy: 0.9986 - val_loss: 0.0064 - val_accuracy: 0.9978 - 7s/epoch - 12ms/step\n",
      "Epoch 34/35\n",
      "540/540 - 7s - loss: 0.0053 - accuracy: 0.9985 - val_loss: 0.0092 - val_accuracy: 0.9973 - 7s/epoch - 12ms/step\n",
      "Epoch 35/35\n",
      "540/540 - 7s - loss: 0.0040 - accuracy: 0.9991 - val_loss: 0.0030 - val_accuracy: 0.9992 - 7s/epoch - 13ms/step\n",
      "--- 232.74567437171936 segundos tardó el algoritmo en entrenar ---\n"
     ]
    }
   ],
   "source": [
    "import time\n",
    "NUMERO_EPOCAS = 35\n",
    "start_time = time.time()\n",
    "modelo.fit(datos_entreno, \n",
    "          epochs = NUMERO_EPOCAS, \n",
    "          validation_data = (entradas_validacion, metas_validacion),\n",
    "          validation_steps = 10,\n",
    "          verbose = 2)\n",
    "print(\"--- %s segundos tardó el algoritmo en entrenar ---\" % (time.time() - start_time))"
   ]
  },
  {
   "cell_type": "markdown",
   "metadata": {},
   "source": [
    "## Probar el modelo\n",
    "\n",
    "Como se discutió en clase, luego del entrenamiento (con los datos de entrenamiento), y la validación (con los datos de validación), probamos el potencial de predicción final de nuestro modelo con el conjunto de datos de prueba que el algoritmo NUNCA ha visto antes.\n",
    "\n",
    "Es muy importante reconocer que estar \"jugando\" con los hiperparámetros sobre-ajusta el conjunto de datos de validación.\n",
    "\n",
    "La prueba es la instancia absolutamente final. Nunca debe probarse el modelo antes de haber completamente ajustado el modelo.\n",
    "\n",
    "Si se ajusta el modelo después de hacer la prueba, se empezará a sobre-ajustar el conjunto de datos de prueba, que echaría \"por los suelos\" el propósito original del mismo."
   ]
  },
  {
   "cell_type": "code",
   "execution_count": 207,
   "metadata": {},
   "outputs": [
    {
     "name": "stdout",
     "output_type": "stream",
     "text": [
      "1/1 [==============================] - 0s 443ms/step - loss: 0.0875 - accuracy: 0.9858\n"
     ]
    }
   ],
   "source": [
    "perdida_prueba, precision_prueba = modelo.evaluate(datos_prueba)"
   ]
  },
  {
   "cell_type": "code",
   "execution_count": 208,
   "metadata": {},
   "outputs": [
    {
     "name": "stdout",
     "output_type": "stream",
     "text": [
      "Pérdida de prueba: 0.09. Precisión de prueba: 98.58%\n"
     ]
    }
   ],
   "source": [
    "# Si se desea, se puede aplicar un formateo \"bonito\"\n",
    "print('Pérdida de prueba: {0:.2f}. Precisión de prueba: {1:.2f}%'.format(perdida_prueba, precision_prueba * 100.))"
   ]
  },
  {
   "cell_type": "markdown",
   "metadata": {},
   "source": [
    "Utilizando el modelo inicial y los hiperparámetros dados en este notebook, la precisión de prueba final debe ser aproximadamente 97%.\n",
    "\n",
    "Cada vez que se ejecuta el código, se obtiene una precisión diferente debido a la \"barajeada\" de las tandas, los pesos se inicializan en forma diferente, etc.\n",
    "\n",
    "Finalmente, intencionalmente se ha llegado a una solución subóptima, para que pueda tener la oportunidad de mejorarla."
   ]
  }
 ],
 "metadata": {
  "kernelspec": {
   "display_name": "Python 3.8.10 64-bit",
   "language": "python",
   "name": "python3"
  },
  "language_info": {
   "codemirror_mode": {
    "name": "ipython",
    "version": 3
   },
   "file_extension": ".py",
   "mimetype": "text/x-python",
   "name": "python",
   "nbconvert_exporter": "python",
   "pygments_lexer": "ipython3",
   "version": "3.8.10"
  },
  "vscode": {
   "interpreter": {
    "hash": "9650cb4e16cdd4a8e8e2d128bf38d875813998db22a3c986335f89e0cb4d7bb2"
   }
  }
 },
 "nbformat": 4,
 "nbformat_minor": 4
}
